{
 "cells": [
  {
   "cell_type": "code",
   "execution_count": 3,
   "metadata": {},
   "outputs": [],
   "source": [
    "import numpy as np\n",
    "import pandas as pd"
   ]
  },
  {
   "cell_type": "code",
   "execution_count": 8,
   "metadata": {},
   "outputs": [
    {
     "name": "stdout",
     "output_type": "stream",
     "text": [
      "0      19\n",
      "1      16\n",
      "2       6\n",
      "3       3\n",
      "4      18\n",
      "       ..\n",
      "123    17\n",
      "124    23\n",
      "125    15\n",
      "126    33\n",
      "127     4\n",
      "Name: Width, Length: 128, dtype: int64\n"
     ]
    }
   ],
   "source": [
    "df=pd.read_csv('Goal_Kicking_NRL 2020.csv')\n",
    "\n",
    "#Add to dataframe\n",
    "#Assumption 1: left foot kick = right foot kick\n",
    "\n",
    "def x_cord(row):\n",
    "    if row.Side == 'L':\n",
    "        return -row.Width\n",
    "    else:\n",
    "        return row.Width\n",
    "    \n",
    "print(df[\"Width\"])\n",
    "#df['x_cord']=df.apply(lambda row: x_cord(row), axis=1)\n",
    "    \n"
   ]
  }
 ],
 "metadata": {
  "kernelspec": {
   "display_name": "Python 3",
   "language": "python",
   "name": "python3"
  },
  "language_info": {
   "codemirror_mode": {
    "name": "ipython",
    "version": 3
   },
   "file_extension": ".py",
   "mimetype": "text/x-python",
   "name": "python",
   "nbconvert_exporter": "python",
   "pygments_lexer": "ipython3",
   "version": "3.7.4"
  }
 },
 "nbformat": 4,
 "nbformat_minor": 2
}
