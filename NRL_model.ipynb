{
 "cells": [
  {
   "cell_type": "code",
   "execution_count": 3,
   "metadata": {},
   "outputs": [],
   "source": [
    "import numpy as np\n",
    "import pandas as pd"
   ]
  },
  {
   "cell_type": "code",
   "execution_count": 11,
   "metadata": {},
   "outputs": [
    {
     "name": "stdout",
     "output_type": "stream",
     "text": [
      "0      19\n",
      "1      16\n",
      "2       6\n",
      "3       3\n",
      "4      18\n",
      "       ..\n",
      "123    17\n",
      "124    23\n",
      "125    15\n",
      "126    33\n",
      "127     4\n",
      "Name: Width, Length: 128, dtype: int64\n",
      "     Kick     MatchID  Rd  Cond    HomeTeam    AwayTeam  HomeSc  AwaySc  \\\n",
      "0       1  2020110110   1  Fine  Parramatta  Canterbury       0       0   \n",
      "1       2  2020110110   1  Fine  Parramatta  Canterbury       0       2   \n",
      "2       3  2020110110   1  Fine  Parramatta  Canterbury       0       2   \n",
      "3       4  2020110110   1  Fine  Parramatta  Canterbury       6       2   \n",
      "4       5  2020110120   1  Fine    Canberra  Gold Coast       4       0   \n",
      "..    ...         ...  ..   ...         ...         ...     ...     ...   \n",
      "123   124  2020110280   2  Fine  Gold Coast  Parramatta       6      24   \n",
      "124   125  2020110280   2  Fine  Gold Coast  Parramatta       6      30   \n",
      "125   126  2020110280   2  Fine  Gold Coast  Parramatta       6      36   \n",
      "126   127  2020110280   2  Fine  Gold Coast  Parramatta       6      42   \n",
      "127   128  2020110280   2  Fine  Gold Coast  Parramatta       6      44   \n",
      "\n",
      "              Player        Team  ...     Time Margin  Type Width  Side Dist  \\\n",
      "0    Brandon Wakeham  Canterbury  ...  0:12:14      0     P    19     L   22   \n",
      "1    Brandon Wakeham  Canterbury  ...  0:15:46      2     P    16     L   21   \n",
      "2     Mitchell Moses  Parramatta  ...  0:34:41     -2     P     6     R   19   \n",
      "3     Mitchell Moses  Parramatta  ...  1:06:00      4     C     3     L   10   \n",
      "4      Jarrod Croker    Canberra  ...  0:03:52      4     C    18     L   19   \n",
      "..               ...         ...  ...      ...    ...   ...   ...   ...  ...   \n",
      "123   Mitchell Moses  Parramatta  ...  1:01:40     18     C    17     R   15   \n",
      "124   Mitchell Moses  Parramatta  ...  1:06:03     24     C    23     L   19   \n",
      "125   Mitchell Moses  Parramatta  ...  1:11:39     30     C    15     R   14   \n",
      "126   Mitchell Moses  Parramatta  ...  1:15:55     36     C    33     L   21   \n",
      "127   Mitchell Moses  Parramatta  ...  1:19:59     38     P     4     R   10   \n",
      "\n",
      "      Result Direction  Amount x_cord  \n",
      "0    success    middle    left    -19  \n",
      "1       miss     right    wide    -16  \n",
      "2    success    middle  middle      6  \n",
      "3    success    middle  middle     -3  \n",
      "4    success    middle  middle    -18  \n",
      "..       ...       ...     ...    ...  \n",
      "123  success    middle  middle     17  \n",
      "124  success    middle  middle    -23  \n",
      "125  success    middle    left     15  \n",
      "126  success    middle    left    -33  \n",
      "127  success    middle  middle      4  \n",
      "\n",
      "[128 rows x 21 columns]\n"
     ]
    }
   ],
   "source": [
    "df=pd.read_csv('Goal_Kicking_NRL 2020.csv')\n",
    "\n",
    "#Add to dataframe\n",
    "#Assumption 1: left foot kick = right foot kick\n",
    "\n",
    "def x_cord(row):\n",
    "    if row.Side == 'L':\n",
    "        return -row.Width\n",
    "    else:\n",
    "        return row.Width\n",
    "    \n",
    "print(df[\"Width\"])\n",
    "df['x_cord']=df.apply(lambda row: x_cord(row), axis=1)\n",
    "    \n",
    "print(df)\n"
   ]
  }
 ],
 "metadata": {
  "kernelspec": {
   "display_name": "Python 3",
   "language": "python",
   "name": "python3"
  },
  "language_info": {
   "codemirror_mode": {
    "name": "ipython",
    "version": 3
   },
   "file_extension": ".py",
   "mimetype": "text/x-python",
   "name": "python",
   "nbconvert_exporter": "python",
   "pygments_lexer": "ipython3",
   "version": "3.7.4"
  }
 },
 "nbformat": 4,
 "nbformat_minor": 2
}
