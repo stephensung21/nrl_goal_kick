{
 "cells": [
  {
   "cell_type": "code",
   "execution_count": 36,
   "metadata": {},
   "outputs": [],
   "source": [
    "import numpy as np\n",
    "import pandas as pd\n",
    "import math\n",
    "from sklearn.linear_model import LogisticRegression\n",
    "from sklearn.metrics import accuracy_score "
   ]
  },
  {
   "cell_type": "code",
   "execution_count": 15,
   "metadata": {},
   "outputs": [
    {
     "name": "stdout",
     "output_type": "stream",
     "text": [
      "     Kick     MatchID  Rd  Cond    HomeTeam    AwayTeam  HomeSc  AwaySc  \\\n",
      "0       1  2020110110   1  Fine  Parramatta  Canterbury       0       0   \n",
      "1       2  2020110110   1  Fine  Parramatta  Canterbury       0       2   \n",
      "2       3  2020110110   1  Fine  Parramatta  Canterbury       0       2   \n",
      "3       4  2020110110   1  Fine  Parramatta  Canterbury       6       2   \n",
      "4       5  2020110120   1  Fine    Canberra  Gold Coast       4       0   \n",
      "..    ...         ...  ..   ...         ...         ...     ...     ...   \n",
      "123   124  2020110280   2  Fine  Gold Coast  Parramatta       6      24   \n",
      "124   125  2020110280   2  Fine  Gold Coast  Parramatta       6      30   \n",
      "125   126  2020110280   2  Fine  Gold Coast  Parramatta       6      36   \n",
      "126   127  2020110280   2  Fine  Gold Coast  Parramatta       6      42   \n",
      "127   128  2020110280   2  Fine  Gold Coast  Parramatta       6      44   \n",
      "\n",
      "              Player        Team  ... Type Width  Side Dist   Result  \\\n",
      "0    Brandon Wakeham  Canterbury  ...    P    19     L   22  success   \n",
      "1    Brandon Wakeham  Canterbury  ...    P    16     L   21     miss   \n",
      "2     Mitchell Moses  Parramatta  ...    P     6     R   19  success   \n",
      "3     Mitchell Moses  Parramatta  ...    C     3     L   10  success   \n",
      "4      Jarrod Croker    Canberra  ...    C    18     L   19  success   \n",
      "..               ...         ...  ...  ...   ...   ...  ...      ...   \n",
      "123   Mitchell Moses  Parramatta  ...    C    17     R   15  success   \n",
      "124   Mitchell Moses  Parramatta  ...    C    23     L   19  success   \n",
      "125   Mitchell Moses  Parramatta  ...    C    15     R   14  success   \n",
      "126   Mitchell Moses  Parramatta  ...    C    33     L   21  success   \n",
      "127   Mitchell Moses  Parramatta  ...    P     4     R   10  success   \n",
      "\n",
      "    Direction  Amount x_cord Result_Num x_norm  \n",
      "0      middle    left    -19          1    -19  \n",
      "1       right    wide    -16          0    -16  \n",
      "2      middle  middle      6          1      6  \n",
      "3      middle  middle     -3          1     -3  \n",
      "4      middle  middle    -18          1     18  \n",
      "..        ...     ...    ...        ...    ...  \n",
      "123    middle  middle     17          1     17  \n",
      "124    middle  middle    -23          1    -23  \n",
      "125    middle    left     15          1     15  \n",
      "126    middle    left    -33          1    -33  \n",
      "127    middle  middle      4          1      4  \n",
      "\n",
      "[128 rows x 23 columns]\n"
     ]
    }
   ],
   "source": [
    "df=pd.read_csv('Goal_Kicking_NRL 2020.csv')\n",
    "\n",
    "#Add to dataframe\n",
    "#Assumption 1: left foot kick = right foot kick\n",
    "\n",
    "#adds negative left side component to kick\n",
    "def x_cord(row):\n",
    "    if row.Side == 'L':\n",
    "        return -row.Width\n",
    "    else:\n",
    "        return row.Width\n",
    "\n",
    "#numeric Result\n",
    "def Result_Num(row):\n",
    "    if row.Result == 'success':\n",
    "        return 1\n",
    "    else:\n",
    "        return 0\n",
    "    \n",
    "#x_norm: mirror left foot kickers with right footers\n",
    "def x_norm(row):\n",
    "    if row.Foot == 'left':\n",
    "        return -row.x_cord\n",
    "    else:\n",
    "        return row.x_cord\n",
    "    \n",
    "\n",
    "df['x_cord']=df.apply(lambda row: x_cord(row), axis=1)\n",
    "df['Result_Num']=df.apply(lambda row: Result_Num(row), axis=1)\n",
    "df['x_norm']=df.apply(lambda row: x_norm(row), axis=1)\n",
    "\n",
    "print(df)\n"
   ]
  },
  {
   "cell_type": "code",
   "execution_count": 33,
   "metadata": {},
   "outputs": [
    {
     "name": "stdout",
     "output_type": "stream",
     "text": [
      "     Kick     MatchID  Rd  Cond    HomeTeam    AwayTeam  HomeSc  AwaySc  \\\n",
      "0       1  2020110110   1  Fine  Parramatta  Canterbury       0       0   \n",
      "1       2  2020110110   1  Fine  Parramatta  Canterbury       0       2   \n",
      "2       3  2020110110   1  Fine  Parramatta  Canterbury       0       2   \n",
      "3       4  2020110110   1  Fine  Parramatta  Canterbury       6       2   \n",
      "4       5  2020110120   1  Fine    Canberra  Gold Coast       4       0   \n",
      "..    ...         ...  ..   ...         ...         ...     ...     ...   \n",
      "123   124  2020110280   2  Fine  Gold Coast  Parramatta       6      24   \n",
      "124   125  2020110280   2  Fine  Gold Coast  Parramatta       6      30   \n",
      "125   126  2020110280   2  Fine  Gold Coast  Parramatta       6      36   \n",
      "126   127  2020110280   2  Fine  Gold Coast  Parramatta       6      42   \n",
      "127   128  2020110280   2  Fine  Gold Coast  Parramatta       6      44   \n",
      "\n",
      "              Player        Team  ...  Amount x_cord  Result_Num x_norm  \\\n",
      "0    Brandon Wakeham  Canterbury  ...    left    -19           1    -19   \n",
      "1    Brandon Wakeham  Canterbury  ...    wide    -16           0    -16   \n",
      "2     Mitchell Moses  Parramatta  ...  middle      6           1      6   \n",
      "3     Mitchell Moses  Parramatta  ...  middle     -3           1     -3   \n",
      "4      Jarrod Croker    Canberra  ...  middle    -18           1     18   \n",
      "..               ...         ...  ...     ...    ...         ...    ...   \n",
      "123   Mitchell Moses  Parramatta  ...  middle     17           1     17   \n",
      "124   Mitchell Moses  Parramatta  ...  middle    -23           1    -23   \n",
      "125   Mitchell Moses  Parramatta  ...    left     15           1     15   \n",
      "126   Mitchell Moses  Parramatta  ...    left    -33           1    -33   \n",
      "127   Mitchell Moses  Parramatta  ...  middle      4           1      4   \n",
      "\n",
      "       x_1    x_2        h_1        h_2      alpha   distance  \n",
      "0   -21.75 -16.25  30.936427  27.350731   8.221676  29.068884  \n",
      "1   -18.75 -13.25  28.152487  24.830677   9.510326  26.400758  \n",
      "2     3.25   8.75  19.275957  20.917995  15.020662  19.924859  \n",
      "3    -5.75  -0.25  11.535272  10.003125  28.466806  10.440307  \n",
      "4    15.25  20.75  24.363138  28.134721   8.769200  26.172505  \n",
      "..     ...    ...        ...        ...        ...        ...  \n",
      "123  14.25  19.75  20.689671  24.800454   9.252360  22.671568  \n",
      "124 -25.75 -20.25  32.000977  27.768012   6.753627  29.832868  \n",
      "125  12.25  17.75  18.602755  22.606691  10.550086  20.518285  \n",
      "126 -35.75 -30.25  41.461579  36.824754   4.338444  39.115214  \n",
      "127   1.25   6.75  10.077822  12.064929  26.894334  10.770330  \n",
      "\n",
      "[128 rows x 29 columns]\n"
     ]
    }
   ],
   "source": [
    "goal_width=5.5\n",
    "\n",
    "def x1_func(row):\n",
    "    x_1 = row.x_norm - goal_width/2\n",
    "    return x_1\n",
    "\n",
    "def x2_func(row):\n",
    "    x_2 = row.x_norm + goal_width/2\n",
    "    return x_2\n",
    "\n",
    "def h1_func(row):\n",
    "    h_1 = math.sqrt(row.x_1**2 + row.Dist**2)\n",
    "    return h_1\n",
    "\n",
    "def h2_func(row):\n",
    "    h_2 = math.sqrt(row.x_2**2 + row.Dist**2)\n",
    "    return h_2\n",
    "\n",
    "def angle_func(row):\n",
    "    Angle = math.acos( (row.h_1**2 + row.h_2**2 - goal_width**2)/(2*row.h_1*row.h_2) )\n",
    "    alpha = Angle * 180/math.pi\n",
    "    return alpha\n",
    "\n",
    "def distance(row):\n",
    "    return math.sqrt(row.x_norm**2 + row.Dist**2)\n",
    "\n",
    "df['x_1']=df.apply(lambda row: x1_func(row), axis=1)\n",
    "df['x_2']=df.apply(lambda row: x2_func(row), axis=1)\n",
    "df['h_1']=df.apply(lambda row: h1_func(row), axis=1)\n",
    "df['h_2']=df.apply(lambda row: h2_func(row), axis=1)\n",
    "df['alpha']=df.apply(lambda row: angle_func(row), axis=1)\n",
    "df['distance']=df.apply(lambda row: distance(row), axis=1)\n",
    "\n",
    "print(df)"
   ]
  },
  {
   "cell_type": "code",
   "execution_count": 39,
   "metadata": {},
   "outputs": [
    {
     "name": "stderr",
     "output_type": "stream",
     "text": [
      "C:\\Users\\Stephen Sung\\Anaconda3\\lib\\site-packages\\sklearn\\linear_model\\logistic.py:432: FutureWarning: Default solver will be changed to 'lbfgs' in 0.22. Specify a solver to silence this warning.\n",
      "  FutureWarning)\n"
     ]
    },
    {
     "data": {
      "text/plain": [
       "LogisticRegression(C=1.0, class_weight=None, dual=False, fit_intercept=True,\n",
       "                   intercept_scaling=1, l1_ratio=None, max_iter=100,\n",
       "                   multi_class='warn', n_jobs=None, penalty='l2',\n",
       "                   random_state=None, solver='warn', tol=0.0001, verbose=0,\n",
       "                   warm_start=False)"
      ]
     },
     "execution_count": 39,
     "metadata": {},
     "output_type": "execute_result"
    }
   ],
   "source": [
    "#logistic regression\n",
    "feature_cols=['alpha', 'distance']\n",
    "X=df[feature_cols]\n",
    "y=df['Result_Num']\n",
    "\n",
    "model = LogisticRegression()\n",
    "\n",
    "model.fit(X,y)\n"
   ]
  }
 ],
 "metadata": {
  "kernelspec": {
   "display_name": "Python 3",
   "language": "python",
   "name": "python3"
  },
  "language_info": {
   "codemirror_mode": {
    "name": "ipython",
    "version": 3
   },
   "file_extension": ".py",
   "mimetype": "text/x-python",
   "name": "python",
   "nbconvert_exporter": "python",
   "pygments_lexer": "ipython3",
   "version": "3.7.4"
  }
 },
 "nbformat": 4,
 "nbformat_minor": 2
}
